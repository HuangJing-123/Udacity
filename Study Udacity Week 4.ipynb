{
 "cells": [
  {
   "cell_type": "markdown",
   "metadata": {},
   "source": [
    "# 第四周学习总结"
   ]
  },
  {
   "cell_type": "markdown",
   "metadata": {},
   "source": [
    "## Python入门"
   ]
  },
  {
   "cell_type": "markdown",
   "metadata": {},
   "source": [
    "    \n",
    "   这周总结的知识点多且重要，是用python进行数据分析的核心知识之一了。学习4个Lessons：Lesson7脚本编写、Lesson8 NumPy、Lesson9 Pandas、Lesson10进阶知识（迭代器和生成器），还有几个补充的知识点以及汇合了《利用python进行数据分析》这本书的一些知识点。"
   ]
  },
  {
   "cell_type": "markdown",
   "metadata": {},
   "source": [
    "### 【要注意的点】"
   ]
  },
  {
   "cell_type": "markdown",
   "metadata": {},
   "source": [
    "### Lesson 7脚本编写"
   ]
  },
  {
   "cell_type": "markdown",
   "metadata": {},
   "source": [
    "**1、安装Pyhton**"
   ]
  },
  {
   "cell_type": "markdown",
   "metadata": {},
   "source": [
    "不论电脑中有没有安装Python,都可以安装实用的[Anaconda](https://www.anaconda.com/distribution/#download-section)。Anaconda类似于Python的pip，但用途更广一些，可以提供不同的packages和虚拟环境，可以切换环境、包，是一个针对数据分析的管理平台，使用Anaconda prompt可以运行Python命令行，连带的Jupyter notebook(即IPython notebook，可迭代测试试调)外加一个文本编辑器(如Atom)，是今后数据分析的重要组合工具。"
   ]
  },
  {
   "cell_type": "markdown",
   "metadata": {},
   "source": [
    "__知识扩展__"
   ]
  },
  {
   "cell_type": "markdown",
   "metadata": {},
   "source": [
    "__①SHELL__"
   ]
  },
  {
   "cell_type": "markdown",
   "metadata": {},
   "source": [
    "在Windows系统中要运行shell终端，可以下载git,使用具有Unix风格的shell——git bash."
   ]
  },
  {
   "cell_type": "markdown",
   "metadata": {},
   "source": [
    "了解了与系统交互的基本操作命令和文件处理等命令，未与数据分析运用挂钩，不详述。"
   ]
  },
  {
   "cell_type": "markdown",
   "metadata": {},
   "source": [
    "__②Anaconda and Jupyter notebook.__"
   ]
  },
  {
   "cell_type": "markdown",
   "metadata": {},
   "source": [
    "了解了在Anaconda prompt中与python相关的如创建环境等基本命令，不详述。"
   ]
  },
  {
   "cell_type": "markdown",
   "metadata": {},
   "source": [
    "了解了在数据分析中使用Jupyter notebook的便利性及其具体使用方法，从打开到各个模块的编辑到文件保存等过程，TAB补全、内省“？”、%run命令、Markdown语法、快捷键的使用以及魔法命令等的使用都很重要，需要积累和经常使用，能大大增加效率。               "
   ]
  },
  {
   "cell_type": "markdown",
   "metadata": {},
   "source": [
    "__2、运行python__"
   ]
  },
  {
   "cell_type": "markdown",
   "metadata": {},
   "source": [
    "介绍了使用git bash运行python的方式，这适合习惯使用shell的同学；也可直接在ananconda prompt中运行pytho；"
   ]
  },
  {
   "cell_type": "markdown",
   "metadata": {},
   "source": [
    "介绍了在命令行中脚本的运行（.py文件）以及使用文本编辑器（如atom）；"
   ]
  },
  {
   "cell_type": "markdown",
   "metadata": {},
   "source": [
    "__3、python的脚本内容__"
   ]
  },
  {
   "cell_type": "markdown",
   "metadata": {},
   "source": [
    "`input`（用户输入）的学习；"
   ]
  },
  {
   "cell_type": "markdown",
   "metadata": {},
   "source": [
    "**4、错误和处理错误**"
   ]
  },
  {
   "cell_type": "markdown",
   "metadata": {},
   "source": [
    "在python脚本执行时，错误可大致分为两类：语法错误和异常。要学会阅读错误提示和灵活运用搜索引擎进行错误解决。"
   ]
  },
  {
   "cell_type": "markdown",
   "metadata": {},
   "source": [
    "使用try语句处理异常，这样可以使代码不至于奔溃,可以使用try语句来自定义函数，使某些语句运行失败时可以优雅地返回。"
   ]
  },
  {
   "cell_type": "markdown",
   "metadata": {},
   "source": [
    "```\n",
    "try:  \n",
    "except:    \n",
    "else:   \n",
    "finally:```"
   ]
  },
  {
   "cell_type": "markdown",
   "metadata": {},
   "source": [
    "在IPython中用%run执行一个脚本或任何语句报错时，IPython都会默认打印出完整的报错追溯，可灵活运用魔术命令来差错调试。"
   ]
  },
  {
   "cell_type": "markdown",
   "metadata": {},
   "source": [
    "在处理异常时还可结合try语句和as访问错误。"
   ]
  },
  {
   "cell_type": "markdown",
   "metadata": {},
   "source": [
    "**5、在python中读取文件**"
   ]
  },
  {
   "cell_type": "markdown",
   "metadata": {},
   "source": [
    "使用open函数来选择读或写文件（可通过参数\"r\"',\"w\"选择）。使用read方法来访问文件内容。使用close方法来关闭文件，释放文件占用的空间。使用with关键字来自动关闭文件。"
   ]
  },
  {
   "cell_type": "markdown",
   "metadata": {},
   "source": [
    "**6、导入脚本**"
   ]
  },
  {
   "cell_type": "markdown",
   "metadata": {},
   "source": [
    "脚本的导入和python模块、包的导入类似，目的就是重复运用脚本中已经编写好的代码、函数等，简化整体代码，所以都可以用点记法。"
   ]
  },
  {
   "cell_type": "markdown",
   "metadata": {},
   "source": [
    "`import useful_functions.py as uf`"
   ]
  },
  {
   "cell_type": "markdown",
   "metadata": {},
   "source": [
    "使用if main 块来避免运行从其他脚本中作为模块导入的可执行语句（也就是声明那些代码只在本脚本作为主脚本时可运行）。"
   ]
  },
  {
   "cell_type": "markdown",
   "metadata": {},
   "source": [
    "**7、模块、包**"
   ]
  },
  {
   "cell_type": "markdown",
   "metadata": {},
   "source": [
    "__①标准库__"
   ]
  },
  {
   "cell_type": "markdown",
   "metadata": {},
   "source": [
    "python内置了很多有用的函数、方法，分装在各个模块中，也称为标准库。用import语句导入。"
   ]
  },
  {
   "cell_type": "markdown",
   "metadata": {},
   "source": [
    "__②第三方库__"
   ]
  },
  {
   "cell_type": "markdown",
   "metadata": {},
   "source": [
    "第三方库很多，数据分析常用的如numpy,pandas等，先安装包（install），再导入。"
   ]
  },
  {
   "cell_type": "markdown",
   "metadata": {},
   "source": [
    "**8、在线资源**"
   ]
  },
  {
   "cell_type": "markdown",
   "metadata": {},
   "source": [
    "学会阅读文档，充分利用网络资源。"
   ]
  },
  {
   "cell_type": "markdown",
   "metadata": {},
   "source": [
    "### LESSON 8 NumPy"
   ]
  },
  {
   "cell_type": "markdown",
   "metadata": {},
   "source": [
    "__1、NumPy简介__"
   ]
  },
  {
   "cell_type": "markdown",
   "metadata": {},
   "source": [
    "NumPy的最大特点的内容是ndarray，即一种高效多维数组。多维数组的快速向量化计算也是重要特点之一。虽然NumPy提供了数值数据操作的计算基础，但大多数读者还是把Pandas作为统计、分析的基石。虽然深入理解NumPy对于大部分数据分析应用并不是必需的，但是精通基于数组的编程和思考是成为Python科学计算专家的重要一步，也是Pandas的基础。"
   ]
  },
  {
   "cell_type": "markdown",
   "metadata": {},
   "source": [
    "__2、创建 ndarray__"
   ]
  },
  {
   "cell_type": "markdown",
   "metadata": {},
   "source": [
    "可以通过多种方式创建ndarray。\n"
   ]
  },
  {
   "cell_type": "markdown",
   "metadata": {},
   "source": [
    "__①使用普通的列表（序列）和array函数创建__"
   ]
  },
  {
   "cell_type": "markdown",
   "metadata": {},
   "source": [
    "即使用array函数。array函数接收任意的序列型对象（也包括其他的数组），生成新的包含传递数据的NumPy数组。dtype指定数据类型，否则默认。"
   ]
  },
  {
   "cell_type": "code",
   "execution_count": 2,
   "metadata": {},
   "outputs": [
    {
     "name": "stdout",
     "output_type": "stream",
     "text": [
      "[[ 1  2  3]\n",
      " [ 4  5  6]\n",
      " [ 7  8  9]\n",
      " [10 11 12]]\n"
     ]
    }
   ],
   "source": [
    "import numpy as np\n",
    "data1=[[1,2,3],[4,5,6],[7,8,9],[10,11,12]]\n",
    "X=np.array(data1,dtype=np.int64)\n",
    "print(X)"
   ]
  },
  {
   "cell_type": "markdown",
   "metadata": {},
   "source": [
    "__②使用内置函数创建__"
   ]
  },
  {
   "cell_type": "markdown",
   "metadata": {},
   "source": [
    "__⑴使用range(或linspace)函数和reshape方法（也可作为函数）创建__"
   ]
  },
  {
   "cell_type": "markdown",
   "metadata": {},
   "source": [
    "arange是内建函数range的数组版,linshape按隔断数划分，区间默认[ ],endpoint=False表示[ )。"
   ]
  },
  {
   "cell_type": "code",
   "execution_count": 3,
   "metadata": {},
   "outputs": [
    {
     "name": "stdout",
     "output_type": "stream",
     "text": [
      "[[ 1  4  7 10]\n",
      " [13 16 19 22]\n",
      " [25 28 31 34]\n",
      " [37 40 43 46]]\n"
     ]
    }
   ],
   "source": [
    "X=np.arange(1,47,3)\n",
    "X=np.reshape(X,(4,4))\n",
    "print(X)"
   ]
  },
  {
   "cell_type": "code",
   "execution_count": 5,
   "metadata": {},
   "outputs": [
    {
     "name": "stdout",
     "output_type": "stream",
     "text": [
      "[[ 1  4  7 10]\n",
      " [13 16 19 22]\n",
      " [25 28 31 34]\n",
      " [37 40 43 46]]\n"
     ]
    }
   ],
   "source": [
    "Y=np.arange(1,47,3).reshape(4,4)\n",
    "print(Y)"
   ]
  },
  {
   "cell_type": "code",
   "execution_count": 7,
   "metadata": {},
   "outputs": [
    {
     "name": "stdout",
     "output_type": "stream",
     "text": [
      "[[ 0.   2.5  5.   7.5 10. ]\n",
      " [12.5 15.  17.5 20.  22.5]]\n"
     ]
    }
   ],
   "source": [
    "Z=np.linspace(0,25,10,endpoint=False).reshape(2,5)\n",
    "print(Z)"
   ]
  },
  {
   "cell_type": "markdown",
   "metadata": {},
   "source": [
    "__⑵特殊的数组函数__"
   ]
  },
  {
   "cell_type": "code",
   "execution_count": 10,
   "metadata": {},
   "outputs": [
    {
     "name": "stdout",
     "output_type": "stream",
     "text": [
      "[[0. 0. 0. 0.]\n",
      " [0. 0. 0. 0.]\n",
      " [0. 0. 0. 0.]]\n"
     ]
    }
   ],
   "source": [
    "#元素全是0的数组\n",
    "X=np.zeros((3,4))\n",
    "print(X)"
   ]
  },
  {
   "cell_type": "code",
   "execution_count": 12,
   "metadata": {},
   "outputs": [
    {
     "name": "stdout",
     "output_type": "stream",
     "text": [
      "[[1. 1.]\n",
      " [1. 1.]\n",
      " [1. 1.]]\n"
     ]
    }
   ],
   "source": [
    "#元素全是1的数组\n",
    "Y=np.ones((3,2))\n",
    "print(Y)"
   ]
  },
  {
   "cell_type": "code",
   "execution_count": 14,
   "metadata": {},
   "outputs": [
    {
     "name": "stdout",
     "output_type": "stream",
     "text": [
      "[[5 5 5]\n",
      " [5 5 5]]\n"
     ]
    }
   ],
   "source": [
    "#元素全是指定数字的数组\n",
    "Z=np.full((2,3),5)\n",
    "print(Z)"
   ]
  },
  {
   "cell_type": "code",
   "execution_count": 15,
   "metadata": {},
   "outputs": [
    {
     "name": "stdout",
     "output_type": "stream",
     "text": [
      "[[1. 0. 0. 0. 0.]\n",
      " [0. 1. 0. 0. 0.]\n",
      " [0. 0. 1. 0. 0.]\n",
      " [0. 0. 0. 1. 0.]\n",
      " [0. 0. 0. 0. 1.]]\n"
     ]
    }
   ],
   "source": [
    "#单位矩阵\n",
    "S=np.eye(5)\n",
    "print(S)"
   ]
  },
  {
   "cell_type": "code",
   "execution_count": 16,
   "metadata": {},
   "outputs": [
    {
     "name": "stdout",
     "output_type": "stream",
     "text": [
      "[[10  0  0  0]\n",
      " [ 0 20  0  0]\n",
      " [ 0  0 30  0]\n",
      " [ 0  0  0 50]]\n"
     ]
    }
   ],
   "source": [
    "#对角矩阵\n",
    "T=np.diag([10,20,30,50])\n",
    "print(T)"
   ]
  },
  {
   "cell_type": "markdown",
   "metadata": {},
   "source": [
    "__⑶随机数组__"
   ]
  },
  {
   "cell_type": "code",
   "execution_count": 18,
   "metadata": {},
   "outputs": [
    {
     "name": "stdout",
     "output_type": "stream",
     "text": [
      "[[0.91892387 0.17728449 0.45207304]\n",
      " [0.5485168  0.99303936 0.94158045]\n",
      " [0.6226196  0.29538197 0.56285585]]\n"
     ]
    }
   ],
   "source": [
    "#随机值范围为[0.0,1.0)\n",
    "X=np.random.random((3,3))\n",
    "print(X)"
   ]
  },
  {
   "cell_type": "code",
   "execution_count": 20,
   "metadata": {},
   "outputs": [
    {
     "name": "stdout",
     "output_type": "stream",
     "text": [
      "[[12  8]\n",
      " [ 4  4]\n",
      " [ 4 11]]\n"
     ]
    }
   ],
   "source": [
    "#随机值为整数\n",
    "Y=np.random.randint(4,15,size=(3,2))\n",
    "print(Y)"
   ]
  },
  {
   "cell_type": "markdown",
   "metadata": {},
   "source": [
    "random模块还有其他函数得出特殊的随机数组。"
   ]
  },
  {
   "cell_type": "markdown",
   "metadata": {},
   "source": [
    "__3、访问、修改、删除、保存数组中的元素__"
   ]
  },
  {
   "cell_type": "markdown",
   "metadata": {},
   "source": [
    "__①访问：索引与切片__"
   ]
  },
  {
   "cell_type": "markdown",
   "metadata": {},
   "source": [
    "__⑴一般索引和切片__"
   ]
  },
  {
   "cell_type": "markdown",
   "metadata": {},
   "source": [
    "选择单元素或者连续的数组子集可使用一般的索引和切片。返回的都是原数组的视图，想要拷贝数据使用方法.copy()。"
   ]
  },
  {
   "cell_type": "markdown",
   "metadata": {},
   "source": [
    "切片可以和索引混合使用，切片不降维度，一个索引降一维。"
   ]
  },
  {
   "cell_type": "code",
   "execution_count": 39,
   "metadata": {},
   "outputs": [
    {
     "name": "stdout",
     "output_type": "stream",
     "text": [
      "[[1 2 3]\n",
      " [4 5 6]\n",
      " [7 8 9]]\n",
      "3\n",
      "[[4 5 6]]\n",
      "[[4 5]]\n",
      "[4 5]\n"
     ]
    }
   ],
   "source": [
    "arr2d=np.array([[1,2,3],[4,5,6],[7,8,9]])\n",
    "S=arr2d[0,2]#和arr2d[0][2]的结果是一样的,表示第1行第3列的元素，只有单元素能这样写，选取多元素时使用两个方括号时别有它意，表示两次从头索引，所以可以统一起来都使用一个方括号\n",
    "s=arr2d[1:2][:2]\n",
    "X=arr2d[1:2,:2]\n",
    "Y=arr2d[1,:2]\n",
    "print(arr2d)\n",
    "print(S)\n",
    "print(s)\n",
    "print(X)\n",
    "print(Y)\n"
   ]
  },
  {
   "cell_type": "markdown",
   "metadata": {},
   "source": [
    "__⑵布尔索引__"
   ]
  },
  {
   "cell_type": "markdown",
   "metadata": {},
   "source": [
    "即使用布尔条件语句来选择数组的子集，当对多个布尔条件进行联合时可使用操作符&（和）、|（或）（不是使用and、or），用！=和~取反。使用布尔索引选择数据时，总是生成数据的拷贝而不是视图。"
   ]
  },
  {
   "cell_type": "markdown",
   "metadata": {},
   "source": [
    "对布尔索引有两种用法：a.直接使用；b.利用布尔值False、True间接使用。"
   ]
  },
  {
   "cell_type": "markdown",
   "metadata": {},
   "source": [
    "a."
   ]
  },
  {
   "cell_type": "code",
   "execution_count": 17,
   "metadata": {},
   "outputs": [
    {
     "name": "stdout",
     "output_type": "stream",
     "text": [
      "[[ 0  1  2  3  4]\n",
      " [ 5  6  7  8  9]\n",
      " [10 11 12 13 14]\n",
      " [15 16 17 18 19]\n",
      " [20 21 22 23 24]]\n",
      "[11 12 13 14 15 16 17 18 19 20 21 22 23 24]\n",
      "[[False False False False False]\n",
      " [False False False False False]\n",
      " [False  True  True  True  True]\n",
      " [ True  True  True  True  True]\n",
      " [ True  True  True  True  True]]\n"
     ]
    }
   ],
   "source": [
    "import numpy as np\n",
    "X=np.arange(25).reshape(5,5)\n",
    "print(X)\n",
    "print(X[X>10])#其实这也是间接使用\n",
    "print(X>10)"
   ]
  },
  {
   "cell_type": "code",
   "execution_count": 13,
   "metadata": {},
   "outputs": [
    {
     "name": "stdout",
     "output_type": "stream",
     "text": [
      "['Bob' 'Joe' 'Will' 'Bob' 'Will' 'Joe' 'Joe']\n",
      "[[-1.83812418  0.06659051  1.0573094   0.73185221]\n",
      " [ 2.39670262  1.33284978  1.95920204 -0.37642212]\n",
      " [ 2.05375369 -1.72410414 -0.20653792 -0.57926122]\n",
      " [ 0.14612046  0.7867952  -0.35292745  0.38884894]\n",
      " [-1.95355541 -0.76828396 -1.12681573 -1.0099884 ]\n",
      " [ 1.37831545  1.42198199 -1.33659826 -2.72602055]\n",
      " [ 0.06319191 -1.71303904  0.2299638  -1.48076606]]\n",
      "[ True False False  True False False False]\n"
     ]
    },
    {
     "data": {
      "text/plain": [
       "array([[-1.83812418,  0.06659051,  1.0573094 ,  0.73185221],\n",
       "       [ 0.14612046,  0.7867952 , -0.35292745,  0.38884894]])"
      ]
     },
     "execution_count": 13,
     "metadata": {},
     "output_type": "execute_result"
    }
   ],
   "source": [
    "names=np.array(['Bob','Joe','Will','Bob','Will','Joe','Joe'])\n",
    "data=np.random.randn(7,4)#布尔数组的长度必须和数组轴索引长度一致\n",
    "print(names)\n",
    "print(data)\n",
    "print(names=='Bob')\n",
    "data[names=='Bob']"
   ]
  },
  {
   "cell_type": "markdown",
   "metadata": {},
   "source": [
    "__⑶神奇索引__"
   ]
  },
  {
   "cell_type": "markdown",
   "metadata": {},
   "source": [
    "跳跃式取子集时可使用神奇索引，即使用整数数组进行数据索引。"
   ]
  },
  {
   "cell_type": "code",
   "execution_count": 22,
   "metadata": {},
   "outputs": [
    {
     "name": "stdout",
     "output_type": "stream",
     "text": [
      "[[ 0  1  2  3]\n",
      " [ 4  5  6  7]\n",
      " [ 8  9 10 11]\n",
      " [12 13 14 15]\n",
      " [16 17 18 19]\n",
      " [20 21 22 23]\n",
      " [24 25 26 27]\n",
      " [28 29 30 31]]\n",
      "[[ 4  5  6  7]\n",
      " [20 21 22 23]\n",
      " [28 29 30 31]]\n",
      "[ 4 23 29]\n",
      "[[ 4  7  5]\n",
      " [20 23 21]\n",
      " [28 31 29]]\n"
     ]
    }
   ],
   "source": [
    "arr=np.arange(32).reshape((8,4))\n",
    "print(arr)\n",
    "print(arr[[1,5,7]])\n",
    "print(arr[[1,5,7],[0,3,1]])#对应索引元素\n",
    "print(arr[[1,5,7]][:,[0,3,1]])#这才是行、列都跳跃索引"
   ]
  },
  {
   "cell_type": "markdown",
   "metadata": {},
   "source": [
    "__⑷其他特殊访问方式__"
   ]
  },
  {
   "cell_type": "markdown",
   "metadata": {},
   "source": [
    "np.diag(ndarray,k=N),取对角线上的数值，默认N=0时取主对角线；N>0的值，取在对角线上的第N个对角线的元素；N<0的值取反。"
   ]
  },
  {
   "cell_type": "markdown",
   "metadata": {},
   "source": [
    "np.unique(ndarray)函数查找ndarray中的唯一元素，返回给定ndarray中的唯一值（去重后的元素）。"
   ]
  },
  {
   "cell_type": "markdown",
   "metadata": {},
   "source": [
    "**②修改、删除和保存**"
   ]
  },
  {
   "cell_type": "markdown",
   "metadata": {},
   "source": [
    "通过索引**修改**ndarray中的元素："
   ]
  },
  {
   "cell_type": "code",
   "execution_count": 4,
   "metadata": {},
   "outputs": [
    {
     "name": "stdout",
     "output_type": "stream",
     "text": [
      "[[ 0  1  2  3  4]\n",
      " [ 5  6  7  8  9]\n",
      " [10 11 12 13 14]\n",
      " [15 16 17 18 19]]\n",
      "[[ 0  1  2  3  4]\n",
      " [ 5  6  7  8  9]\n",
      " [10 11 12 13 14]\n",
      " [20 20 20 20 20]]\n"
     ]
    }
   ],
   "source": [
    "import numpy as np\n",
    "X=np.arange(20).reshape((4,5))\n",
    "print(X)\n",
    "X[3]=20\n",
    "print(X)"
   ]
  },
  {
   "cell_type": "markdown",
   "metadata": {},
   "source": [
    "通过np.append(ndarray,elements,axis)函数向ndarray后方**添加**数值，axis=0表示行，axis=1表示列："
   ]
  },
  {
   "cell_type": "code",
   "execution_count": 5,
   "metadata": {},
   "outputs": [
    {
     "name": "stdout",
     "output_type": "stream",
     "text": [
      "[[ 0  1  2  3  4  0]\n",
      " [ 5  6  7  8  9  2]\n",
      " [10 11 12 13 14  4]\n",
      " [20 20 20 20 20  6]]\n"
     ]
    }
   ],
   "source": [
    "X=np.append(X,[[0],[2],[4],[6]],axis=1)\n",
    "print(X)"
   ]
  },
  {
   "cell_type": "code",
   "execution_count": 6,
   "metadata": {},
   "outputs": [
    {
     "name": "stdout",
     "output_type": "stream",
     "text": [
      "[[ 0  1  2  3  4  0]\n",
      " [ 5  6  7  8  9  2]\n",
      " [10 11 12 13 14  4]\n",
      " [20 20 20 20 20  6]\n",
      " [ 1  1  1  1  1  1]]\n"
     ]
    }
   ],
   "source": [
    "X=np.append(X,[[1,1,1,1,1,1]],axis=0)\n",
    "print(X)"
   ]
  },
  {
   "cell_type": "code",
   "execution_count": 7,
   "metadata": {},
   "outputs": [
    {
     "name": "stdout",
     "output_type": "stream",
     "text": [
      "[  0   1   2   3   4   0   5   6   7   8   9   2  10  11  12  13  14   4\n",
      "  20  20  20  20  20   6   1   1   1   1   1   1 100 100]\n"
     ]
    }
   ],
   "source": [
    "X=np.append(X,[100,100])\n",
    "print(X)"
   ]
  },
  {
   "cell_type": "markdown",
   "metadata": {},
   "source": [
    "使用np.insert(ndarray,index,elements,axis)函数**插入**值"
   ]
  },
  {
   "cell_type": "code",
   "execution_count": 8,
   "metadata": {},
   "outputs": [
    {
     "name": "stdout",
     "output_type": "stream",
     "text": [
      "[  0   1 100 100   2   3   4   0   5   6   7   8   9   2  10  11  12  13\n",
      "  14   4  20  20  20  20  20   6   1   1   1   1   1   1 100 100]\n"
     ]
    }
   ],
   "source": [
    "X=np.insert(X,2,[100,100])\n",
    "print(X)"
   ]
  },
  {
   "cell_type": "markdown",
   "metadata": {},
   "source": [
    "使用np.vstack()函数对ndarray进行垂直堆叠，使用np.hstack()函数进行水平**堆叠**（形状必须相符）。"
   ]
  },
  {
   "cell_type": "code",
   "execution_count": null,
   "metadata": {},
   "outputs": [],
   "source": []
  },
  {
   "cell_type": "code",
   "execution_count": 10,
   "metadata": {},
   "outputs": [
    {
     "name": "stdout",
     "output_type": "stream",
     "text": [
      "[1 2]\n",
      "[[3 4]\n",
      " [5 6]]\n",
      "[[1 2]\n",
      " [3 4]\n",
      " [5 6]]\n",
      "[[3 4 1]\n",
      " [5 6 2]]\n"
     ]
    }
   ],
   "source": [
    "X=np.array([1,2])\n",
    "Y=np.array([[3,4],[5,6]])\n",
    "print(X)\n",
    "print(Y)\n",
    "Z=np.vstack((X,Y))\n",
    "W=np.hstack((Y,X.reshape(2,1)))\n",
    "print(Z)\n",
    "print(W)"
   ]
  },
  {
   "cell_type": "markdown",
   "metadata": {},
   "source": [
    "使用np.delete(ndarray,elements,axis)**删除**元素"
   ]
  },
  {
   "cell_type": "code",
   "execution_count": 11,
   "metadata": {},
   "outputs": [
    {
     "name": "stdout",
     "output_type": "stream",
     "text": [
      "[[4]\n",
      " [6]]\n"
     ]
    }
   ],
   "source": [
    "W=np.delete(W,[0,2],axis=1)\n",
    "print(W)"
   ]
  },
  {
   "cell_type": "markdown",
   "metadata": {},
   "source": [
    "使用np.save(filename,ndarray)函数**保存**，使用np.load(filename.npy,ndarray)**加载**。"
   ]
  },
  {
   "cell_type": "markdown",
   "metadata": {},
   "source": [
    "**4、运算**"
   ]
  },
  {
   "cell_type": "markdown",
   "metadata": {},
   "source": [
    "**①集合运算**"
   ]
  },
  {
   "cell_type": "markdown",
   "metadata": {},
   "source": [
    "使用np.intersectld(X,Y)取交集；使用np.setdiffld(X,Y)取差集；使用np.union(X,Y)取并集。"
   ]
  },
  {
   "cell_type": "markdown",
   "metadata": {},
   "source": [
    "**②排序**"
   ]
  },
  {
   "cell_type": "markdown",
   "metadata": {},
   "source": [
    "使用np.sort(ndarray,axis)函数或np.sort()方法进行排序。使用函数不会就地排序，而使用方法会。"
   ]
  },
  {
   "cell_type": "markdown",
   "metadata": {},
   "source": [
    "使用sort函数和unique函数对数组中的唯一元素进行排序：```print(np.sort(np.unique(X)))```"
   ]
  },
  {
   "cell_type": "markdown",
   "metadata": {},
   "source": [
    "**③算术运算和广播**"
   ]
  },
  {
   "cell_type": "markdown",
   "metadata": {},
   "source": [
    "Numpy允许对ndarray执行元素级运算以及矩阵运算，这里先学习元素级运算。"
   ]
  },
  {
   "cell_type": "markdown",
   "metadata": {},
   "source": [
    "在进行元素级运算时，对其执行运算的ndarray必须具有相同的形状或者**可广播**。"
   ]
  },
  {
   "cell_type": "markdown",
   "metadata": {},
   "source": [
    "**⑴加减乘除**"
   ]
  },
  {
   "cell_type": "markdown",
   "metadata": {},
   "source": [
    "可使用+-*/算数符号，也可使用函数np.add()、np.sbstract()、np.multiply()、np.divide()。执行结果相同，但是使用函数方式可以运用关键字选项。"
   ]
  },
  {
   "cell_type": "markdown",
   "metadata": {},
   "source": [
    "**⑵数学函数**"
   ]
  },
  {
   "cell_type": "markdown",
   "metadata": {},
   "source": [
    "每个函数都运算"
   ]
  },
  {
   "cell_type": "markdown",
   "metadata": {},
   "source": [
    "```np.exp(X)  np.sqrt(X)  np.power(X,2)```"
   ]
  },
  {
   "cell_type": "markdown",
   "metadata": {},
   "source": [
    "**⑶统计学函数**"
   ]
  },
  {
   "cell_type": "markdown",
   "metadata": {},
   "source": [
    "```X.mean(axis)  X.sum(axis)  X.std(axis)  np.median(X,axis)  X.max(axis)  X.min(axis)```"
   ]
  },
  {
   "cell_type": "markdown",
   "metadata": {},
   "source": [
    "**⑷使用广播功能**"
   ]
  },
  {
   "cell_type": "markdown",
   "metadata": {},
   "source": [
    "指在一定条件下，可对两个形状不同的ndarray执行运算操作。"
   ]
  },
  {
   "cell_type": "markdown",
   "metadata": {},
   "source": [
    "**原则**是：在对两个数组进行操作时，先写出维度（空前填后），按维度大小比较它们的形状，从尾部维度开始向前推进比较，当为以下两种条件时两个数组可称为兼容的（也就是可以进行广播）。a.它们的数字相等；b.它们的数字其中各有一个是1。"
   ]
  },
  {
   "cell_type": "markdown",
   "metadata": {},
   "source": [
    "### LESSON 9 Pandas"
   ]
  },
  {
   "cell_type": "markdown",
   "metadata": {},
   "source": [
    "**1、Pandas简介**"
   ]
  },
  {
   "cell_type": "markdown",
   "metadata": {},
   "source": [
    "Pandas对于数据分析最重要，可以说贯穿前后，它所包含的数据结构和数据处理工具的设计使得在Python中进行数据清洗和分析非常快捷。Pandas中有两个新的重要的数据结构，Pandas Series和Pandas DateFramem，借助这两个数据结构，我们能够轻松直观地处理代表强数据和关系数据（表格）。"
   ]
  },
  {
   "cell_type": "markdown",
   "metadata": {},
   "source": [
    "**2、Pandas Series**"
   ]
  },
  {
   "cell_type": "markdown",
   "metadata": {},
   "source": [
    "Pandas Series是一个像数组一样的一维对象，但不同的是它可以同时储存不同类型的数据，并且可以为其中的每个元素分配自定义索引标签。"
   ]
  },
  {
   "cell_type": "markdown",
   "metadata": {},
   "source": [
    "**①创建Pandas Series**"
   ]
  },
  {
   "cell_type": "code",
   "execution_count": 7,
   "metadata": {},
   "outputs": [
    {
     "name": "stdout",
     "output_type": "stream",
     "text": [
      "eggs       30\n",
      "apples      6\n",
      "milk      yes\n",
      "bread      no\n",
      "dtype: object\n"
     ]
    }
   ],
   "source": [
    "import pandas as pd\n",
    "groceries=pd.Series(data=[30,6,'yes','no'],index=['eggs','apples','milk','bread'])\n",
    "print(groceries)"
   ]
  },
  {
   "cell_type": "markdown",
   "metadata": {},
   "source": [
    "**②访问、修改和删除元素**"
   ]
  },
  {
   "cell_type": "markdown",
   "metadata": {},
   "source": [
    "**⑴访问**"
   ]
  },
  {
   "cell_type": "markdown",
   "metadata": {},
   "source": [
    "主要通过两种方式访问：a.在[ ]内添加索引标签；b.用数字标签。可用```.loc```和```.iloc```更清晰地指代两种方式。"
   ]
  },
  {
   "cell_type": "code",
   "execution_count": 8,
   "metadata": {},
   "outputs": [
    {
     "name": "stdout",
     "output_type": "stream",
     "text": [
      "eggs      30\n",
      "apples     6\n",
      "dtype: object\n",
      "milk     yes\n",
      "bread     no\n",
      "dtype: object\n"
     ]
    }
   ],
   "source": [
    "print(groceries.loc[['eggs','apples']])\n",
    "print(groceries.iloc[[2,3]])"
   ]
  },
  {
   "cell_type": "markdown",
   "metadata": {},
   "source": [
    "也可通过布尔索引进行访问,前提是里面的数据类型都可用于布尔运算。"
   ]
  },
  {
   "cell_type": "code",
   "execution_count": 15,
   "metadata": {},
   "outputs": [
    {
     "name": "stdout",
     "output_type": "stream",
     "text": [
      "o    6\n",
      "b    3\n",
      "dtype: int64\n"
     ]
    }
   ],
   "source": [
    "print(fruits[fruits<10])"
   ]
  },
  {
   "cell_type": "markdown",
   "metadata": {},
   "source": [
    "分别访问索引和标签"
   ]
  },
  {
   "cell_type": "code",
   "execution_count": 10,
   "metadata": {},
   "outputs": [
    {
     "name": "stdout",
     "output_type": "stream",
     "text": [
      "[30 6 'yes' 'no']\n",
      "Index(['eggs', 'apples', 'milk', 'bread'], dtype='object')\n"
     ]
    }
   ],
   "source": [
    "print(groceries.values)\n",
    "print(groceries.index)"
   ]
  },
  {
   "cell_type": "markdown",
   "metadata": {},
   "source": [
    "可用in命令检查是否存在某标签"
   ]
  },
  {
   "cell_type": "code",
   "execution_count": 11,
   "metadata": {},
   "outputs": [
    {
     "name": "stdout",
     "output_type": "stream",
     "text": [
      "False\n"
     ]
    }
   ],
   "source": [
    "X='bananas' in groceries\n",
    "print(X)"
   ]
  },
  {
   "cell_type": "markdown",
   "metadata": {},
   "source": [
    "**⑵修改**"
   ]
  },
  {
   "cell_type": "code",
   "execution_count": 12,
   "metadata": {},
   "outputs": [
    {
     "name": "stdout",
     "output_type": "stream",
     "text": [
      "eggs        2\n",
      "apples      6\n",
      "milk      yes\n",
      "bread      no\n",
      "dtype: object\n"
     ]
    }
   ],
   "source": [
    "groceries['eggs']=2\n",
    "print(groceries)"
   ]
  },
  {
   "cell_type": "markdown",
   "metadata": {},
   "source": [
    "在源数据修改"
   ]
  },
  {
   "cell_type": "markdown",
   "metadata": {},
   "source": [
    "**⑶删除**"
   ]
  },
  {
   "cell_type": "code",
   "execution_count": 13,
   "metadata": {},
   "outputs": [
    {
     "name": "stdout",
     "output_type": "stream",
     "text": [
      "apples      6\n",
      "milk      yes\n",
      "bread      no\n",
      "dtype: object\n",
      "eggs        2\n",
      "apples      6\n",
      "milk      yes\n",
      "bread      no\n",
      "dtype: object\n",
      "None\n",
      "apples      6\n",
      "milk      yes\n",
      "bread      no\n",
      "dtype: object\n"
     ]
    }
   ],
   "source": [
    "print(groceries.drop('eggs'))#不在源数据删\n",
    "print(groceries)\n",
    "print(groceries.drop('eggs',inplace=True))#在源数据删\n",
    "print(groceries)"
   ]
  },
  {
   "cell_type": "markdown",
   "metadata": {},
   "source": [
    "**③运算**"
   ]
  },
  {
   "cell_type": "markdown",
   "metadata": {},
   "source": [
    "在这方面业余数组很类似。"
   ]
  },
  {
   "cell_type": "markdown",
   "metadata": {},
   "source": [
    "**⑴算术运算**"
   ]
  },
  {
   "cell_type": "markdown",
   "metadata": {},
   "source": [
    "先了解元素级运算中与单个数字之间的算数运算，即对所有元素都进行加减乘除。不在源数据上修改。"
   ]
  },
  {
   "cell_type": "code",
   "execution_count": 14,
   "metadata": {},
   "outputs": [
    {
     "name": "stdout",
     "output_type": "stream",
     "text": [
      "a    10\n",
      "o     6\n",
      "b     3\n",
      "dtype: int64\n",
      "a    12\n",
      "o     8\n",
      "b     5\n",
      "dtype: int64\n",
      "a    10\n",
      "o     6\n",
      "b     3\n",
      "dtype: int64\n"
     ]
    }
   ],
   "source": [
    "fruits=pd.Series(data=[10,6,3],index=['a','o','b'])\n",
    "print(fruits)\n",
    "print(fruits+2)\n",
    "print(fruits)"
   ]
  },
  {
   "cell_type": "markdown",
   "metadata": {},
   "source": [
    "**⑵应用NumPy中的数学函数**"
   ]
  },
  {
   "cell_type": "markdown",
   "metadata": {},
   "source": [
    "也是对每一个元素都进行运算。不在源数据上修改。"
   ]
  },
  {
   "cell_type": "code",
   "execution_count": 18,
   "metadata": {},
   "outputs": [
    {
     "name": "stdout",
     "output_type": "stream",
     "text": [
      "a    22026.465795\n",
      "o      403.428793\n",
      "b       20.085537\n",
      "dtype: float64\n",
      "a    3.162278\n",
      "o    2.449490\n",
      "b    1.732051\n",
      "dtype: float64\n",
      "a    100\n",
      "o     36\n",
      "b      9\n",
      "dtype: int64\n",
      "a    10\n",
      "o     6\n",
      "b     3\n",
      "dtype: int64\n"
     ]
    }
   ],
   "source": [
    "print(np.exp(fruits))\n",
    "print(np.sqrt(fruits))\n",
    "print(np.power(fruits,2))\n",
    "print(fruits)"
   ]
  },
  {
   "cell_type": "markdown",
   "metadata": {},
   "source": [
    "**⑶部分运算**"
   ]
  },
  {
   "cell_type": "code",
   "execution_count": 35,
   "metadata": {},
   "outputs": [
    {
     "name": "stdout",
     "output_type": "stream",
     "text": [
      "5\n",
      "a    5.0\n",
      "o    3.0\n",
      "dtype: float64\n"
     ]
    }
   ],
   "source": [
    "print(fruits['b']+2)\n",
    "print(fruits.loc[['a','o']]/2)"
   ]
  },
  {
   "cell_type": "markdown",
   "metadata": {},
   "source": [
    "**3、Pandas DataFrame**"
   ]
  },
  {
   "cell_type": "markdown",
   "metadata": {},
   "source": [
    "Pandas DataFrame是具有带标签的二维数据结构，也可以同时存储很多数据类型，类似于Excel表格。"
   ]
  },
  {
   "cell_type": "markdown",
   "metadata": {},
   "source": [
    "**①创建Pandas DataFrame**"
   ]
  },
  {
   "cell_type": "markdown",
   "metadata": {},
   "source": [
    "先建立字典再使用函数pd.DataFrame()"
   ]
  },
  {
   "cell_type": "markdown",
   "metadata": {},
   "source": [
    "**⑴使用Pandas Series字典**"
   ]
  },
  {
   "cell_type": "code",
   "execution_count": 36,
   "metadata": {},
   "outputs": [
    {
     "name": "stdout",
     "output_type": "stream",
     "text": [
      "           bob  alice\n",
      "bike     245.0  500.0\n",
      "book       NaN   40.0\n",
      "glasses    NaN  110.0\n",
      "pants     25.0   45.0\n",
      "watch     55.0    NaN\n"
     ]
    }
   ],
   "source": [
    "import pandas as pd\n",
    "items={'bob':pd.Series(data=[245,25,55],index=['bike','pants','watch']),'alice':pd.Series(data=[40,110,500,45],index=['book','glasses','bike','pants'])}\n",
    "shopping_carts=pd.DataFrame(items)\n",
    "print(shopping_carts)"
   ]
  },
  {
   "cell_type": "markdown",
   "metadata": {},
   "source": [
    "**⑵使用列表（数组）字典**"
   ]
  },
  {
   "cell_type": "markdown",
   "metadata": {},
   "source": [
    "这种方式不能出现NaN值"
   ]
  },
  {
   "cell_type": "code",
   "execution_count": 79,
   "metadata": {},
   "outputs": [
    {
     "name": "stdout",
     "output_type": "stream",
     "text": [
      "        intgers  floats\n",
      "label1        1     4.5\n",
      "label2        2     8.2\n",
      "label3        3     9.6\n"
     ]
    }
   ],
   "source": [
    "data={'intgers':[1,2,3],'floats':[4.5,8.2,9.6]}\n",
    "df=pd.DataFrame(data,index=['label1','label2','label3'])\n",
    "print(df)"
   ]
  },
  {
   "cell_type": "markdown",
   "metadata": {},
   "source": [
    "**⑶使用Python字典列表**"
   ]
  },
  {
   "cell_type": "code",
   "execution_count": 80,
   "metadata": {},
   "outputs": [
    {
     "name": "stdout",
     "output_type": "stream",
     "text": [
      "        bikes  pants  watches  glasses\n",
      "store1     20     30       35      NaN\n",
      "store2     15      5       10     50.0\n"
     ]
    }
   ],
   "source": [
    "items=[{'bikes':20,'pants':30,'watches':35},{'watches':10,'glasses':50,'bikes':15,'pants':5}]\n",
    "store_items=pd.DataFrame(items,index=['store1','store2'])\n",
    "print(store_items)"
   ]
  },
  {
   "cell_type": "markdown",
   "metadata": {},
   "source": [
    "**②访问、修改、删除元素**"
   ]
  },
  {
   "cell_type": "markdown",
   "metadata": {},
   "source": [
    "**⑴访问**"
   ]
  },
  {
   "cell_type": "markdown",
   "metadata": {},
   "source": [
    "使用列、行标签，且列标签要在前。访问行、列或单个元素。"
   ]
  },
  {
   "cell_type": "code",
   "execution_count": 81,
   "metadata": {},
   "outputs": [
    {
     "name": "stdout",
     "output_type": "stream",
     "text": [
      "        bikes  pants\n",
      "store1     20     30\n",
      "store2     15      5\n"
     ]
    }
   ],
   "source": [
    "print(store_items[['bikes','pants']])"
   ]
  },
  {
   "cell_type": "markdown",
   "metadata": {},
   "source": [
    "访问多个元素时，巧用'.any()'方法。"
   ]
  },
  {
   "cell_type": "code",
   "execution_count": 84,
   "metadata": {},
   "outputs": [
    {
     "name": "stdout",
     "output_type": "stream",
     "text": [
      "        bikes  pants\n",
      "store1     20     30\n"
     ]
    }
   ],
   "source": [
    "X=store_items[(store_items==20).any(axis=1)][['bikes','pants']]\n",
    "print(X)"
   ]
  },
  {
   "cell_type": "markdown",
   "metadata": {},
   "source": [
    "**⑵修改**"
   ]
  },
  {
   "cell_type": "markdown",
   "metadata": {},
   "source": [
    "**a.添加列**"
   ]
  },
  {
   "cell_type": "markdown",
   "metadata": {},
   "source": [
    "直接添加新列新内容"
   ]
  },
  {
   "cell_type": "code",
   "execution_count": 40,
   "metadata": {},
   "outputs": [
    {
     "name": "stdout",
     "output_type": "stream",
     "text": [
      "        bikes  pants  watches  glasses  shirts\n",
      "store1     20     30       35      NaN      15\n",
      "store2     15      5       10     50.0       2\n"
     ]
    }
   ],
   "source": [
    "store_items['shirts']=[15,2]\n",
    "print(store_items)"
   ]
  },
  {
   "cell_type": "markdown",
   "metadata": {},
   "source": [
    "使用算术运算符添加(利用源数据)"
   ]
  },
  {
   "cell_type": "code",
   "execution_count": 41,
   "metadata": {},
   "outputs": [
    {
     "name": "stdout",
     "output_type": "stream",
     "text": [
      "        bikes  pants  watches  glasses  shirts  suits\n",
      "store1     20     30       35      NaN      15     45\n",
      "store2     15      5       10     50.0       2      7\n"
     ]
    }
   ],
   "source": [
    "store_items['suits']=store_items['pants']+store_items['shirts']\n",
    "print(store_items)"
   ]
  },
  {
   "cell_type": "markdown",
   "metadata": {},
   "source": [
    "使用源数据特定行特定中的数据添加"
   ]
  },
  {
   "cell_type": "code",
   "execution_count": 42,
   "metadata": {},
   "outputs": [
    {
     "name": "stdout",
     "output_type": "stream",
     "text": [
      "        bikes  pants  watches  glasses  shirts  suits  new watches\n",
      "store1     20     30       35      NaN      15     45          NaN\n",
      "store2     15      5       10     50.0       2      7         10.0\n"
     ]
    }
   ],
   "source": [
    "store_items['new watches']=store_items['watches'][1:]\n",
    "print(store_items)"
   ]
  },
  {
   "cell_type": "markdown",
   "metadata": {},
   "source": [
    "**b.插入列**"
   ]
  },
  {
   "cell_type": "code",
   "execution_count": 43,
   "metadata": {},
   "outputs": [
    {
     "name": "stdout",
     "output_type": "stream",
     "text": [
      "        bikes  pants  watches  glasses  shoes  shirts  suits  new watches\n",
      "store1     20     30       35      NaN      8      15     45          NaN\n",
      "store2     15      5       10     50.0      5       2      7         10.0\n"
     ]
    }
   ],
   "source": [
    "store_items.insert(4,'shoes',[8,5])\n",
    "print(store_items)"
   ]
  },
  {
   "cell_type": "markdown",
   "metadata": {},
   "source": [
    "**c.添加行**"
   ]
  },
  {
   "cell_type": "markdown",
   "metadata": {},
   "source": [
    "需先创建一个新的DataFrame，再将其附加到源数据上。使用‘.append()'方法，添加后列顺序会自动重新排列。"
   ]
  },
  {
   "cell_type": "code",
   "execution_count": 44,
   "metadata": {},
   "outputs": [
    {
     "name": "stdout",
     "output_type": "stream",
     "text": [
      "        bike  bikes  glasses  new watches  pants  shirts  shoes  suits  \\\n",
      "store1   NaN   20.0      NaN          NaN     30    15.0    8.0   45.0   \n",
      "store2   NaN   15.0     50.0         10.0      5     2.0    5.0    7.0   \n",
      "store3  20.0    NaN      4.0          NaN     30     NaN    NaN    NaN   \n",
      "\n",
      "        watches  \n",
      "store1       35  \n",
      "store2       10  \n",
      "store3       35  \n"
     ]
    }
   ],
   "source": [
    "new_items=[{'bike':20,'pants':30,'watches':35,'glasses':4}]\n",
    "new_store=pd.DataFrame(new_items,index=['store3'])\n",
    "store_items=store_items.append(new_store)\n",
    "print(store_items)"
   ]
  },
  {
   "cell_type": "markdown",
   "metadata": {},
   "source": [
    "**d.为行列标签改名**"
   ]
  },
  {
   "cell_type": "code",
   "execution_count": 48,
   "metadata": {},
   "outputs": [
    {
     "name": "stdout",
     "output_type": "stream",
     "text": [
      "        hats  bikes  glasses  new watches  pants  shirts  shoes  suits  \\\n",
      "store1   NaN   20.0      NaN          NaN     30    15.0    8.0   45.0   \n",
      "store2   NaN   15.0     50.0         10.0      5     2.0    5.0    7.0   \n",
      "store3  20.0    NaN      4.0          NaN     30     NaN    NaN    NaN   \n",
      "\n",
      "        watches  \n",
      "store1       35  \n",
      "store2       10  \n",
      "store3       35  \n",
      "            hats  bikes  glasses  new watches  pants  shirts  shoes  suits  \\\n",
      "store1       NaN   20.0      NaN          NaN     30    15.0    8.0   45.0   \n",
      "store2       NaN   15.0     50.0         10.0      5     2.0    5.0    7.0   \n",
      "last store  20.0    NaN      4.0          NaN     30     NaN    NaN    NaN   \n",
      "\n",
      "            watches  \n",
      "store1           35  \n",
      "store2           10  \n",
      "last store       35  \n"
     ]
    }
   ],
   "source": [
    "store_items=store_items.rename(columns={'bike':'hats'})\n",
    "print(store_items)\n",
    "store_items=store_items.rename(index={'store3':'last store'})\n",
    "print(store_items)"
   ]
  },
  {
   "cell_type": "markdown",
   "metadata": {},
   "source": [
    "**e.把某列改成索引**"
   ]
  },
  {
   "cell_type": "code",
   "execution_count": 49,
   "metadata": {},
   "outputs": [
    {
     "name": "stdout",
     "output_type": "stream",
     "text": [
      "       hats  bikes  glasses  new watches  shirts  shoes  suits  watches\n",
      "pants                                                                  \n",
      "30      NaN   20.0      NaN          NaN    15.0    8.0   45.0       35\n",
      "5       NaN   15.0     50.0         10.0     2.0    5.0    7.0       10\n",
      "30     20.0    NaN      4.0          NaN     NaN    NaN    NaN       35\n"
     ]
    }
   ],
   "source": [
    "store_items=store_items.set_index('pants')\n",
    "print(store_items)"
   ]
  },
  {
   "cell_type": "markdown",
   "metadata": {},
   "source": [
    "**⑶删除**"
   ]
  },
  {
   "cell_type": "markdown",
   "metadata": {},
   "source": [
    "'.pop'方法只允许删除列，'.drop'方法配合使用axis可用于删除行或列。"
   ]
  },
  {
   "cell_type": "code",
   "execution_count": 50,
   "metadata": {},
   "outputs": [
    {
     "name": "stdout",
     "output_type": "stream",
     "text": [
      "       hats  bikes  glasses  shirts  shoes  suits  watches\n",
      "pants                                                     \n",
      "30      NaN   20.0      NaN    15.0    8.0   45.0       35\n",
      "5       NaN   15.0     50.0     2.0    5.0    7.0       10\n",
      "30     20.0    NaN      4.0     NaN    NaN    NaN       35\n"
     ]
    }
   ],
   "source": [
    "store_items.pop('new watches')\n",
    "print(store_items)"
   ]
  },
  {
   "cell_type": "code",
   "execution_count": 52,
   "metadata": {},
   "outputs": [
    {
     "name": "stdout",
     "output_type": "stream",
     "text": [
      "       bikes  glasses  shirts  shoes  suits  watches\n",
      "pants                                               \n",
      "30      20.0      NaN    15.0    8.0   45.0       35\n",
      "5       15.0     50.0     2.0    5.0    7.0       10\n",
      "30       NaN      4.0     NaN    NaN    NaN       35\n"
     ]
    }
   ],
   "source": [
    "store_items=store_items.drop(['hats'],axis=1)\n",
    "print(store_items)"
   ]
  },
  {
   "cell_type": "markdown",
   "metadata": {},
   "source": [
    "**③处理NaN**"
   ]
  },
  {
   "cell_type": "markdown",
   "metadata": {},
   "source": [
    "**⑴发现NaN**"
   ]
  },
  {
   "cell_type": "markdown",
   "metadata": {},
   "source": [
    "计算NaN的个数"
   ]
  },
  {
   "cell_type": "code",
   "execution_count": 53,
   "metadata": {},
   "outputs": [
    {
     "name": "stdout",
     "output_type": "stream",
     "text": [
      "5\n"
     ]
    }
   ],
   "source": [
    "X=store_items.isnull().sum().sum()\n",
    "print(X)"
   ]
  },
  {
   "cell_type": "markdown",
   "metadata": {},
   "source": [
    "计算每列非NaN值"
   ]
  },
  {
   "cell_type": "code",
   "execution_count": 54,
   "metadata": {},
   "outputs": [
    {
     "name": "stdout",
     "output_type": "stream",
     "text": [
      "bikes      2\n",
      "glasses    2\n",
      "shirts     2\n",
      "shoes      2\n",
      "suits      2\n",
      "watches    3\n",
      "dtype: int64\n"
     ]
    }
   ],
   "source": [
    "print(store_items.count())"
   ]
  },
  {
   "cell_type": "markdown",
   "metadata": {},
   "source": [
    "**⑵处理NaN**"
   ]
  },
  {
   "cell_type": "markdown",
   "metadata": {},
   "source": [
    "删除有NaN值的行或列,不会再源数据上删除，除非使用inplace=True"
   ]
  },
  {
   "cell_type": "code",
   "execution_count": 56,
   "metadata": {},
   "outputs": [
    {
     "name": "stdout",
     "output_type": "stream",
     "text": [
      "       bikes  glasses  shirts  shoes  suits  watches\n",
      "pants                                               \n",
      "5       15.0     50.0     2.0    5.0    7.0       10\n",
      "       bikes  glasses  shirts  shoes  suits  watches\n",
      "pants                                               \n",
      "30      20.0      NaN    15.0    8.0   45.0       35\n",
      "5       15.0     50.0     2.0    5.0    7.0       10\n",
      "30       NaN      4.0     NaN    NaN    NaN       35\n"
     ]
    }
   ],
   "source": [
    "print(store_items.dropna(axis=0))\n",
    "print(store_items)"
   ]
  },
  {
   "cell_type": "markdown",
   "metadata": {},
   "source": [
    "替换NaN值，不会在源数据上修改,除非使用inplace=True"
   ]
  },
  {
   "cell_type": "code",
   "execution_count": 59,
   "metadata": {},
   "outputs": [
    {
     "name": "stdout",
     "output_type": "stream",
     "text": [
      "       bikes  glasses  shirts  shoes  suits  watches\n",
      "pants                                               \n",
      "30      20.0      0.0    15.0    8.0   45.0       35\n",
      "5       15.0     50.0     2.0    5.0    7.0       10\n",
      "30       0.0      4.0     0.0    0.0    0.0       35\n",
      "       bikes  glasses  shirts  shoes  suits  watches\n",
      "pants                                               \n",
      "30      20.0      NaN    15.0    8.0   45.0       35\n",
      "5       15.0     50.0     2.0    5.0    7.0       10\n",
      "30       NaN      4.0     NaN    NaN    NaN       35\n"
     ]
    }
   ],
   "source": [
    "print(store_items.fillna(0))\n",
    "print(store_items)"
   ]
  },
  {
   "cell_type": "code",
   "execution_count": 61,
   "metadata": {},
   "outputs": [
    {
     "name": "stdout",
     "output_type": "stream",
     "text": [
      "       bikes  glasses  shirts  shoes  suits  watches\n",
      "pants                                               \n",
      "30      20.0      NaN    15.0    8.0   45.0       35\n",
      "5       15.0     50.0     2.0    5.0    7.0       10\n",
      "30      15.0      4.0     2.0    5.0    7.0       35\n"
     ]
    }
   ],
   "source": [
    "print(store_items.fillna(method='ffill',axis=0))#按行向前填充"
   ]
  },
  {
   "cell_type": "code",
   "execution_count": 62,
   "metadata": {},
   "outputs": [
    {
     "name": "stdout",
     "output_type": "stream",
     "text": [
      "       bikes  glasses  shirts  shoes  suits  watches\n",
      "pants                                               \n",
      "30      20.0     50.0    15.0    8.0   45.0       35\n",
      "5       15.0     50.0     2.0    5.0    7.0       10\n",
      "30       NaN      4.0     NaN    NaN    NaN       35\n"
     ]
    }
   ],
   "source": [
    "print(store_items.fillna(method='backfill',axis=0))#按行向后填充"
   ]
  },
  {
   "cell_type": "code",
   "execution_count": 63,
   "metadata": {},
   "outputs": [
    {
     "name": "stdout",
     "output_type": "stream",
     "text": [
      "       bikes  glasses  shirts  shoes  suits  watches\n",
      "pants                                               \n",
      "30      20.0      NaN    15.0    8.0   45.0       35\n",
      "5       15.0     50.0     2.0    5.0    7.0       10\n",
      "30      15.0      4.0     2.0    5.0    7.0       35\n"
     ]
    }
   ],
   "source": [
    "print(store_items.interpolate(method='linear',axis=0))#插值线性填充"
   ]
  },
  {
   "cell_type": "code",
   "execution_count": 66,
   "metadata": {},
   "outputs": [
    {
     "name": "stdout",
     "output_type": "stream",
     "text": [
      "       bikes  glasses  shirts  shoes  suits  watches\n",
      "pants                                               \n",
      "30      20.0     27.0    15.0    8.0   45.0       35\n",
      "5       15.0     50.0     2.0    5.0    7.0       10\n",
      "30      17.5      4.0     8.5    6.5   26.0       35\n"
     ]
    }
   ],
   "source": [
    "print(store_items.fillna(store_items.mean()))#用每一列的平均值填充"
   ]
  },
  {
   "cell_type": "markdown",
   "metadata": {},
   "source": [
    "**④数据文件**"
   ]
  },
  {
   "cell_type": "markdown",
   "metadata": {},
   "source": [
    "**加载**文件并赋值给GS```GS=pd.read_csv('filename')```"
   ]
  },
  {
   "cell_type": "markdown",
   "metadata": {},
   "source": [
    "**查看**文件,前N行，```GS.head(N)```；后N行，```GS.tail(N)```"
   ]
  },
  {
   "cell_type": "markdown",
   "metadata": {},
   "source": [
    "**快速检查**数据中是否有NaN值，```GS.isnull.any()```"
   ]
  },
  {
   "cell_type": "markdown",
   "metadata": {},
   "source": [
    "**获取文件信息**"
   ]
  },
  {
   "cell_type": "markdown",
   "metadata": {},
   "source": [
    "使用```GS.describe()```或```GS['A'].describe()```(针对单列)获取每列的描述性统计信息。"
   ]
  },
  {
   "cell_type": "markdown",
   "metadata": {},
   "source": [
    "使用统计学函数```GS.max()```、```GS['A'].min()```等"
   ]
  },
  {
   "cell_type": "markdown",
   "metadata": {},
   "source": [
    "使用.groupby()方法给数据分组统计，以获得不同类型的信息。```data.groupby(['Year'])['Salary'].sum()```即按年份分组，求所有员工薪资的总和。"
   ]
  },
  {
   "cell_type": "code",
   "execution_count": null,
   "metadata": {},
   "outputs": [],
   "source": []
  }
 ],
 "metadata": {
  "kernelspec": {
   "display_name": "Python 3",
   "language": "python",
   "name": "python3"
  },
  "language_info": {
   "codemirror_mode": {
    "name": "ipython",
    "version": 3
   },
   "file_extension": ".py",
   "mimetype": "text/x-python",
   "name": "python",
   "nbconvert_exporter": "python",
   "pygments_lexer": "ipython3",
   "version": "3.7.4"
  }
 },
 "nbformat": 4,
 "nbformat_minor": 2
}
